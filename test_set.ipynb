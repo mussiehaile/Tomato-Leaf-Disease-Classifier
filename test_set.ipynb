{
  "nbformat": 4,
  "nbformat_minor": 0,
  "metadata": {
    "colab": {
      "name": "test set.ipynb",
      "provenance": [],
      "collapsed_sections": []
    },
    "kernelspec": {
      "name": "python3",
      "display_name": "Python 3"
    },
    "language_info": {
      "name": "python"
    }
  },
  "cells": [
    {
      "cell_type": "code",
      "metadata": {
        "id": "vY_Qmg8LsgvQ"
      },
      "source": [
        "from keras.models import load_model\n",
        "from keras.preprocessing import image\n",
        "import numpy as np\n",
        "# dimensions of our images    -----   are these then grayscale (black and white)?\n",
        "img_width, img_height = 224,224\n",
        "\n",
        "# load the model we saved\n",
        "model = load_model('drive/MyDrive/copy/ne/transfer_for new.h5')\n",
        "\n",
        "\n"
      ],
      "execution_count": 2,
      "outputs": []
    },
    {
      "cell_type": "code",
      "metadata": {
        "id": "zxB_A_5Nskkk"
      },
      "source": [
        "# Get test image ready\n",
        "test_image = image.load_img('drive/MyDrive/copy/ne/sp.l.jpeg', target_size=(img_width, img_height))\n",
        "test_image = image.img_to_array(test_image)\n",
        "test_image = np.expand_dims(test_image, axis=0)\n"
      ],
      "execution_count": 4,
      "outputs": []
    },
    {
      "cell_type": "code",
      "metadata": {
        "colab": {
          "base_uri": "https://localhost:8080/"
        },
        "id": "NIMu-1cXdUqw",
        "outputId": "de9fe55e-a4cb-4df3-ae50-44f767e9bead"
      },
      "source": [
        "result = model.predict(test_image, batch_size=1)\n",
        "print(result)\n",
        "np.round(result)\n"
      ],
      "execution_count": 5,
      "outputs": [
        {
          "output_type": "stream",
          "text": [
            "[[0. 0. 0. 0. 1. 0. 0. 0. 0. 0.]]\n"
          ],
          "name": "stdout"
        },
        {
          "output_type": "execute_result",
          "data": {
            "text/plain": [
              "array([[0., 0., 0., 0., 1., 0., 0., 0., 0., 0.]], dtype=float32)"
            ]
          },
          "metadata": {
            "tags": []
          },
          "execution_count": 5
        }
      ]
    },
    {
      "cell_type": "code",
      "metadata": {
        "id": "3OFyU5mQu3-q"
      },
      "source": [
        ""
      ],
      "execution_count": null,
      "outputs": []
    }
  ]
}