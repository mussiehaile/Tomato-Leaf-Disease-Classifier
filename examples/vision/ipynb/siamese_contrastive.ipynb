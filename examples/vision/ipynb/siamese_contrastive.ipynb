{
  "nbformat": 4,
  "nbformat_minor": 0,
  "metadata": {
    "colab": {
      "name": "siamese_contrastive",
      "provenance": [],
      "collapsed_sections": [],
      "include_colab_link": true
    },
    "kernelspec": {
      "display_name": "Python 3",
      "language": "python",
      "name": "python3"
    },
    "language_info": {
      "codemirror_mode": {
        "name": "ipython",
        "version": 3
      },
      "file_extension": ".py",
      "mimetype": "text/x-python",
      "name": "python",
      "nbconvert_exporter": "python",
      "pygments_lexer": "ipython3",
      "version": "3.7.0"
    }
  },
  "cells": [
    {
      "cell_type": "markdown",
      "metadata": {
        "id": "view-in-github",
        "colab_type": "text"
      },
      "source": [
        "<a href=\"https://colab.research.google.com/github/mussiehaile/mussiehaile/blob/main/examples/vision/ipynb/siamese_contrastive.ipynb\" target=\"_parent\"><img src=\"https://colab.research.google.com/assets/colab-badge.svg\" alt=\"Open In Colab\"/></a>"
      ]
    },
    {
      "cell_type": "markdown",
      "metadata": {
        "id": "Rf3lhZGLbpdL"
      },
      "source": [
        "# Image similarity estimation using a Siamese Network with a contrastive loss\n",
        "\n",
        "**Author:** Mehdi<br>\n",
        "**Date created:** 2021/05/06<br>\n",
        "**Last modified:** 2021/05/06<br>\n",
        "**Description:** Similarity learning using a siamese network trained with a contrastive loss."
      ]
    },
    {
      "cell_type": "markdown",
      "metadata": {
        "id": "-AYdicd4bpdR"
      },
      "source": [
        "## Introduction\n",
        "\n",
        "[Siamese Networks](https://en.wikipedia.org/wiki/Siamese_neural_network)\n",
        "are neural networks which share weights between two or more sister networks,\n",
        "each producing embedding vectors of its respective inputs.\n",
        "\n",
        "In supervised similarity learning, the networks are then trained to maximize the\n",
        "contrast (distance) between embeddings of inputs of different classes, while minimizing the distance between\n",
        "embeddings of similar classes, resulting in embedding spaces that reflect\n",
        "the class segmentation of the training inputs."
      ]
    },
    {
      "cell_type": "markdown",
      "metadata": {
        "id": "dEkbEYiAbpdS"
      },
      "source": [
        "## Setup"
      ]
    },
    {
      "cell_type": "code",
      "metadata": {
        "id": "E2rpl-2CbpdU"
      },
      "source": [
        "import random\n",
        "import numpy as np\n",
        "import tensorflow as tf\n",
        "from tensorflow import keras\n",
        "from tensorflow.keras import layers\n",
        "import matplotlib.pyplot as plt"
      ],
      "execution_count": 1,
      "outputs": []
    },
    {
      "cell_type": "markdown",
      "metadata": {
        "id": "r7t0UsUFbpdX"
      },
      "source": [
        "## Hyperparameters"
      ]
    },
    {
      "cell_type": "code",
      "metadata": {
        "id": "zQAk_9xmbvTm"
      },
      "source": [
        ""
      ],
      "execution_count": 2,
      "outputs": []
    },
    {
      "cell_type": "code",
      "metadata": {
        "id": "QHzUdq5bbpdZ"
      },
      "source": [
        "epochs = 10\n",
        "batch_size = 16\n",
        "margin = 1  # Margin for constrastive loss."
      ],
      "execution_count": 3,
      "outputs": []
    },
    {
      "cell_type": "markdown",
      "metadata": {
        "id": "wrqypuNzbpdb"
      },
      "source": [
        "## Load the MNIST dataset"
      ]
    },
    {
      "cell_type": "code",
      "metadata": {
        "id": "-Fzc069kbpdd",
        "outputId": "9118b1f0-98d5-4040-e939-21a8c576cce1",
        "colab": {
          "base_uri": "https://localhost:8080/"
        }
      },
      "source": [
        "(x_train_val, y_train_val), (x_test, y_test) = keras.datasets.mnist.load_data()\n",
        "\n",
        "# Change the data type to a floating point format\n",
        "x_train_val = x_train_val.astype(\"float32\")\n",
        "x_test = x_test.astype(\"float32\")\n"
      ],
      "execution_count": 4,
      "outputs": [
        {
          "output_type": "stream",
          "text": [
            "Downloading data from https://storage.googleapis.com/tensorflow/tf-keras-datasets/mnist.npz\n",
            "11493376/11490434 [==============================] - 0s 0us/step\n"
          ],
          "name": "stdout"
        }
      ]
    },
    {
      "cell_type": "markdown",
      "metadata": {
        "id": "K1MgqkiEbpde"
      },
      "source": [
        "## Define training and validation sets"
      ]
    },
    {
      "cell_type": "code",
      "metadata": {
        "id": "h53pQL7abpdg"
      },
      "source": [
        "# Keep 50% of train_val  in validation set\n",
        "x_train, x_val = x_train_val[:30000], x_train_val[30000:]\n",
        "y_train, y_val = y_train_val[:30000], y_train_val[30000:]\n",
        "del x_train_val, y_train_val\n"
      ],
      "execution_count": 5,
      "outputs": []
    },
    {
      "cell_type": "markdown",
      "metadata": {
        "id": "tjR6PPUUbpdh"
      },
      "source": [
        "## Create pairs of images\n",
        "\n",
        "We will train the model to differentiate between digits of different classes. For\n",
        "example, digit `0` needs to be differentiated from the rest of the\n",
        "digits (`1` through `9`), digit `1` - from `0` and `2` through `9`, and so on.\n",
        "To carry this out, we will select N random images from class A (for example,\n",
        "for digit `0`) and pair them with N random images from another class B\n",
        "(for example, for digit `1`). Then, we can repeat this process for all classes\n",
        "of digits (until digit `9`). Once we have paired digit `0` with other digits,\n",
        "we can repeat this process for the remaining classes for the rest of the digits\n",
        "(from `1` until `9`)."
      ]
    },
    {
      "cell_type": "code",
      "metadata": {
        "id": "i4450SEEbpdj"
      },
      "source": [
        "\n",
        "def make_pairs(x, y):\n",
        "    \"\"\"Creates a tuple containing image pairs with corresponding label.\n",
        "\n",
        "    Arguments:\n",
        "        x: List containing images, each index in this list corresponds to one image.\n",
        "        y: List containing labels, each label with datatype of `int`.\n",
        "\n",
        "    Returns:\n",
        "        Tuple containing two numpy arrays as (pairs_of_samples, labels),\n",
        "        where pairs_of_samples' shape is (2len(x), 2,n_features_dims) and\n",
        "        labels are a binary array of shape (2len(x)).\n",
        "    \"\"\"\n",
        "\n",
        "    num_classes = max(y) + 1\n",
        "    digit_indices = [np.where(y == i)[0] for i in range(num_classes)]\n",
        "\n",
        "    pairs = []\n",
        "    labels = []\n",
        "\n",
        "    for idx1 in range(len(x)):\n",
        "        # add a matching example\n",
        "        x1 = x[idx1]\n",
        "        label1 = y[idx1]\n",
        "        idx2 = random.choice(digit_indices[label1])\n",
        "        x2 = x[idx2]\n",
        "\n",
        "        pairs += [[x1, x2]]\n",
        "        labels += [1]\n",
        "\n",
        "        # add a non-matching example\n",
        "        label2 = random.randint(0, num_classes - 1)\n",
        "        while label2 == label1:\n",
        "            label2 = random.randint(0, num_classes - 1)\n",
        "\n",
        "        idx2 = random.choice(digit_indices[label2])\n",
        "        x2 = x[idx2]\n",
        "\n",
        "        pairs += [[x1, x2]]\n",
        "        labels += [0]\n",
        "\n",
        "    return np.array(pairs), np.array(labels).astype(\"float32\")\n",
        "\n",
        "\n",
        "# make train pairs\n",
        "pairs_train, labels_train = make_pairs(x_train, y_train)\n",
        "\n",
        "# make validation pairs\n",
        "pairs_val, labels_val = make_pairs(x_val, y_val)\n",
        "\n",
        "# make test pairs\n",
        "pairs_test, labels_test = make_pairs(x_test, y_test)"
      ],
      "execution_count": 6,
      "outputs": []
    },
    {
      "cell_type": "markdown",
      "metadata": {
        "id": "UOsTDuMBbpdk"
      },
      "source": [
        "We get:\n",
        "\n",
        "**pairs_train.shape = (60000, 2, 28, 28)**\n",
        "\n",
        "- We have 60,000 pairs\n",
        "- Each pair contains 2 images\n",
        "- Each image has shape `(28, 28)`"
      ]
    },
    {
      "cell_type": "markdown",
      "metadata": {
        "id": "4VYUbx0tbpdl"
      },
      "source": [
        "Split the training pairs"
      ]
    },
    {
      "cell_type": "code",
      "metadata": {
        "id": "xHSt5HClbpdl"
      },
      "source": [
        "x_train_1 = pairs_train[:, 0]  # x_train_1.shape is (60000, 28, 28)\n",
        "x_train_2 = pairs_train[:, 1]"
      ],
      "execution_count": 7,
      "outputs": []
    },
    {
      "cell_type": "markdown",
      "metadata": {
        "id": "r9ZPGkjRbpdl"
      },
      "source": [
        "Split the validation pairs"
      ]
    },
    {
      "cell_type": "code",
      "metadata": {
        "id": "UAD8ATL9bpdm"
      },
      "source": [
        "x_val_1 = pairs_val[:, 0]  # x_val_1.shape = (60000, 28, 28)\n",
        "x_val_2 = pairs_val[:, 1]"
      ],
      "execution_count": 9,
      "outputs": []
    },
    {
      "cell_type": "markdown",
      "metadata": {
        "id": "XXo0IMSlbpdm"
      },
      "source": [
        "Split the test pairs"
      ]
    },
    {
      "cell_type": "code",
      "metadata": {
        "id": "hd6cxYvQbpdm"
      },
      "source": [
        "x_test_1 = pairs_test[:, 0]  # x_test_1.shape = (20000, 28, 28)\n",
        "x_test_2 = pairs_test[:, 1]\n"
      ],
      "execution_count": 10,
      "outputs": []
    },
    {
      "cell_type": "markdown",
      "metadata": {
        "id": "LOEuesScbpdp"
      },
      "source": [
        "## Visualize pairs and their labels"
      ]
    },
    {
      "cell_type": "code",
      "metadata": {
        "id": "EcVEeVLZbpdp"
      },
      "source": [
        "\n",
        "def visualize(pairs, labels, to_show=6, num_col=3, predictions=None, test=False):\n",
        "    \"\"\"Creates a plot of pairs and labels, and prediction if it's test dataset.\n",
        "\n",
        "    Arguments:\n",
        "        pairs: Numpy Array, of pairs to visualize, having shape\n",
        "               (Number of pairs, 2, 28, 28).\n",
        "        to_show: Int, number of examples to visualize (default is 6)\n",
        "                `to_show` must be an integral multiple of `num_col`.\n",
        "                 Otherwise it will be trimmed if it is greater than num_col,\n",
        "                 and incremented if if it is less then num_col.\n",
        "        num_col: Int, number of images in one row - (default is 3)\n",
        "                 For test and train respectively, it should not exceed 3 and 7.\n",
        "        predictions: Numpy Array of predictions with shape (to_show, 1) -\n",
        "                     (default is None)\n",
        "                     Must be passed when test=True.\n",
        "        test: Boolean telling whether the dataset being visualized is\n",
        "              train dataset or test dataset - (default False).\n",
        "\n",
        "    Returns:\n",
        "        None.\n",
        "    \"\"\"\n",
        "\n",
        "    # Define num_row\n",
        "    # If to_show % num_col != 0\n",
        "    #    trim to_show,\n",
        "    #       to trim to_show limit num_row to the point where\n",
        "    #       to_show % num_col == 0\n",
        "    #\n",
        "    # If to_show//num_col == 0\n",
        "    #    then it means num_col is greater then to_show\n",
        "    #    increment to_show\n",
        "    #       to increment to_show set num_row to 1\n",
        "    num_row = to_show // num_col if to_show // num_col != 0 else 1\n",
        "\n",
        "    # `to_show` must be an integral multiple of `num_col`\n",
        "    #  we found num_row and we have num_col\n",
        "    #  to increment or decrement to_show\n",
        "    #  to make it integral multiple of `num_col`\n",
        "    #  simply set it equal to num_row * num_col\n",
        "    to_show = num_row * num_col\n",
        "\n",
        "    # Plot the images\n",
        "    fig, axes = plt.subplots(num_row, num_col, figsize=(5, 5))\n",
        "    for i in range(to_show):\n",
        "\n",
        "        # If the number of rows is 1, the axes array is one-dimensional\n",
        "        if num_row == 1:\n",
        "            ax = axes[i % num_col]\n",
        "        else:\n",
        "            ax = axes[i // num_col, i % num_col]\n",
        "\n",
        "        ax.imshow(tf.concat([pairs[i][0], pairs[i][1]], axis=1), cmap=\"gray\")\n",
        "        ax.set_axis_off()\n",
        "        if test:\n",
        "            ax.set_title(\"True: {} | Pred: {:.5f}\".format(labels[i], predictions[i][0]))\n",
        "        else:\n",
        "            ax.set_title(\"Label: {}\".format(labels[i]))\n",
        "    if test:\n",
        "        plt.tight_layout(rect=(0, 0, 1.9, 1.9), w_pad=0.0)\n",
        "    else:\n",
        "        plt.tight_layout(rect=(0, 0, 1.5, 1.5))\n",
        "    plt.show()\n"
      ],
      "execution_count": 11,
      "outputs": []
    },
    {
      "cell_type": "markdown",
      "metadata": {
        "id": "hdQIRvsubpdq"
      },
      "source": [
        "Inspect training pairs"
      ]
    },
    {
      "cell_type": "code",
      "metadata": {
        "id": "I3KFRH5obpdr",
        "outputId": "f7f5008d-93a6-43cf-871c-343951f8e5c6",
        "colab": {
          "base_uri": "https://localhost:8080/",
          "height": 108
        }
      },
      "source": [
        "visualize(pairs_train[:-1], labels_train[:-1], to_show=4, num_col=4)"
      ],
      "execution_count": 12,
      "outputs": [
        {
          "output_type": "display_data",
          "data": {
            "image/png": "[encoded data removed]",
            "text/plain": [
              "<Figure size 360x360 with 4 Axes>"
            ]
          },
          "metadata": {
            "tags": [],
            "needs_background": "light"
          }
        }
      ]
    },
    {
      "cell_type": "markdown",
      "metadata": {
        "id": "GC_fCeZ8bpdr"
      },
      "source": [
        "Inspect validation pairs"
      ]
    },
    {
      "cell_type": "code",
      "metadata": {
        "id": "FVzGw0QPbpds",
        "outputId": "d288bd73-43b8-4a2e-c7ec-02352fe0ecf0",
        "colab": {
          "base_uri": "https://localhost:8080/",
          "height": 108
        }
      },
      "source": [
        "visualize(pairs_val[:-1], labels_val[:-1], to_show=4, num_col=4)"
      ],
      "execution_count": 13,
      "outputs": [
        {
          "output_type": "display_data",
          "data": {
            "image/png": "[encoded data removed]",
            "text/plain": [
              "<Figure size 360x360 with 4 Axes>"
            ]
          },
          "metadata": {
            "tags": [],
            "needs_background": "light"
          }
        }
      ]
    },
    {
      "cell_type": "markdown",
      "metadata": {
        "id": "kyBoO879bpdu"
      },
      "source": [
        "Inspect test pairs"
      ]
    },
    {
      "cell_type": "code",
      "metadata": {
        "id": "Cgq85_2Dbpdu",
        "outputId": "c2e5fbcb-8de9-4ba1-9fa2-a4d4cec23cbe",
        "colab": {
          "base_uri": "https://localhost:8080/",
          "height": 108
        }
      },
      "source": [
        "visualize(pairs_test[:-1], labels_test[:-1], to_show=4, num_col=4)"
      ],
      "execution_count": 14,
      "outputs": [
        {
          "output_type": "display_data",
          "data": {
            "image/png": "[encoded data removed]",
            "text/plain": [
              "<Figure size 360x360 with 4 Axes>"
            ]
          },
          "metadata": {
            "tags": [],
            "needs_background": "light"
          }
        }
      ]
    },
    {
      "cell_type": "markdown",
      "metadata": {
        "id": "GD0GwB1Cbpdv"
      },
      "source": [
        "## Define the model\n",
        "\n",
        "There are be two input layers, each leading to its own network, which\n",
        "produces embeddings. A `Lambda` layer then merges them using an\n",
        "[Euclidean distance](https://en.wikipedia.org/wiki/Euclidean_distance) and the\n",
        "merged output is fed to the final network."
      ]
    },
    {
      "cell_type": "code",
      "metadata": {
        "id": "4KuGYKDzbpdv"
      },
      "source": [
        "# Provided two tensors t1 and t2\n",
        "# Euclidean distance = sqrt(sum(square(t1-t2)))\n",
        "def euclidean_distance(vects):\n",
        "    \"\"\"Find the Euclidean distance between two vectors.\n",
        "\n",
        "    Arguments:\n",
        "        vects: List containing two tensors of same length.\n",
        "\n",
        "    Returns:\n",
        "        Tensor containing euclidean distance\n",
        "        (as floating point value) between vectors.\n",
        "    \"\"\"\n",
        "\n",
        "    x, y = vects\n",
        "    sum_square = tf.math.reduce_sum(tf.math.square(x - y), axis=1, keepdims=True)\n",
        "    return tf.math.sqrt(tf.math.maximum(sum_square, tf.keras.backend.epsilon()))\n",
        "\n",
        "\n",
        "input = layers.Input((28, 28, 1))\n",
        "x = tf.keras.layers.BatchNormalization()(input)\n",
        "x = layers.Conv2D(4, (5, 5), activation=\"tanh\")(x)\n",
        "x = layers.AveragePooling2D(pool_size=(2, 2))(x)\n",
        "x = layers.Conv2D(16, (5, 5), activation=\"tanh\")(x)\n",
        "x = layers.AveragePooling2D(pool_size=(2, 2))(x)\n",
        "x = layers.Flatten()(x)\n",
        "\n",
        "x = tf.keras.layers.BatchNormalization()(x)\n",
        "x = layers.Dense(10, activation=\"tanh\")(x)\n",
        "embedding_network = keras.Model(input, x)\n",
        "\n",
        "\n",
        "input_1 = layers.Input((28, 28, 1))\n",
        "input_2 = layers.Input((28, 28, 1))\n",
        "\n",
        "# As mentioned above, Siamese Network share weights between\n",
        "# tower networks (sister networks). To allow this, we will use\n",
        "# same embedding network for both tower networks.\n",
        "tower_1 = embedding_network(input_1)\n",
        "tower_2 = embedding_network(input_2)\n",
        "\n",
        "merge_layer = layers.Lambda(euclidean_distance)([tower_1, tower_2])\n",
        "normal_layer = tf.keras.layers.BatchNormalization()(merge_layer)\n",
        "output_layer = layers.Dense(1, activation=\"sigmoid\")(normal_layer)\n",
        "siamese = keras.Model(inputs=[input_1, input_2], outputs=output_layer)\n"
      ],
      "execution_count": 15,
      "outputs": []
    },
    {
      "cell_type": "markdown",
      "metadata": {
        "id": "ZCYR7t0abpdw"
      },
      "source": [
        "## Define the constrastive Loss"
      ]
    },
    {
      "cell_type": "code",
      "metadata": {
        "id": "3OhrGgHdbpdw"
      },
      "source": [
        "\n",
        "def loss(margin=1):\n",
        "    \"\"\"Provides 'constrastive_loss' an enclosing scope with variable 'margin'.\n",
        "\n",
        "  Arguments:\n",
        "      margin: Integer, defines the baseline for distance for which pairs\n",
        "              should be classified as dissimilar. - (default is 1).\n",
        "\n",
        "  Returns:\n",
        "      'constrastive_loss' function with data ('margin') attached.\n",
        "  \"\"\"\n",
        "\n",
        "    # Contrastive loss = mean( (1-true_value) * square(prediction) +\n",
        "    #                         true_value * square( max(margin-prediction, 0) ))\n",
        "    def contrastive_loss(y_true, y_pred):\n",
        "        \"\"\"Calculates the constrastive loss.\n",
        "\n",
        "      Arguments:\n",
        "          y_true: List of labels, each label is of type float32.\n",
        "          y_pred: List of predictions of same length as of y_true,\n",
        "                  each label is of type float32.\n",
        "\n",
        "      Returns:\n",
        "          A tensor containing constrastive loss as floating point value.\n",
        "      \"\"\"\n",
        "\n",
        "        square_pred = tf.math.square(y_pred)\n",
        "        margin_square = tf.math.square(tf.math.maximum(margin - (y_pred), 0))\n",
        "        return tf.math.reduce_mean(\n",
        "            (1 - y_true) * square_pred + (y_true) * margin_square\n",
        "        )\n",
        "\n",
        "    return contrastive_loss\n"
      ],
      "execution_count": 16,
      "outputs": []
    },
    {
      "cell_type": "markdown",
      "metadata": {
        "id": "JpROUsdDbpdx"
      },
      "source": [
        "## Compile the model with the contrastive loss"
      ]
    },
    {
      "cell_type": "code",
      "metadata": {
        "id": "gnjqIPefbpdx",
        "outputId": "868e7407-76cc-4d81-b38e-4881dd53048c",
        "colab": {
          "base_uri": "https://localhost:8080/"
        }
      },
      "source": [
        "siamese.compile(loss=loss(margin=margin), optimizer=\"RMSprop\", metrics=[\"accuracy\"])\n",
        "siamese.summary()\n"
      ],
      "execution_count": 17,
      "outputs": [
        {
          "output_type": "stream",
          "text": [
            "Model: \"model_1\"\n",
            "__________________________________________________________________________________________________\n",
            "Layer (type)                    Output Shape         Param #     Connected to                     \n",
            "==================================================================================================\n",
            "input_2 (InputLayer)            [(None, 28, 28, 1)]  0                                            \n",
            "__________________________________________________________________________________________________\n",
            "input_3 (InputLayer)            [(None, 28, 28, 1)]  0                                            \n",
            "__________________________________________________________________________________________________\n",
            "model (Functional)              (None, 10)           5318        input_2[0][0]                    \n",
            "                                                                 input_3[0][0]                    \n",
            "__________________________________________________________________________________________________\n",
            "lambda (Lambda)                 (None, 1)            0           model[0][0]                      \n",
            "                                                                 model[1][0]                      \n",
            "__________________________________________________________________________________________________\n",
            "batch_normalization_2 (BatchNor (None, 1)            4           lambda[0][0]                     \n",
            "__________________________________________________________________________________________________\n",
            "dense_1 (Dense)                 (None, 1)            2           batch_normalization_2[0][0]      \n",
            "==================================================================================================\n",
            "Total params: 5,324\n",
            "Trainable params: 4,808\n",
            "Non-trainable params: 516\n",
            "__________________________________________________________________________________________________\n"
          ],
          "name": "stdout"
        }
      ]
    },
    {
      "cell_type": "markdown",
      "metadata": {
        "id": "FWOQ41nvbpdx"
      },
      "source": [
        "## Train the model"
      ]
    },
    {
      "cell_type": "code",
      "metadata": {
        "id": "ZcIb3rwRbpdy",
        "outputId": "8ca43aa2-6b7f-4caa-b994-35d2b1682516",
        "colab": {
          "base_uri": "https://localhost:8080/"
        }
      },
      "source": [
        "history = siamese.fit(\n",
        "    [x_train_1, x_train_2],\n",
        "    labels_train,\n",
        "    validation_data=([x_val_1, x_val_2], labels_val),\n",
        "    batch_size=batch_size,\n",
        "    epochs=epochs,\n",
        ")"
      ],
      "execution_count": 18,
      "outputs": [
        {
          "output_type": "stream",
          "text": [
            "Epoch 1/10\n",
            "3750/3750 [==============================] - 60s 15ms/step - loss: 0.0851 - accuracy: 0.8841 - val_loss: 0.0394 - val_accuracy: 0.9495\n",
            "Epoch 2/10\n",
            "3750/3750 [==============================] - 59s 16ms/step - loss: 0.0506 - accuracy: 0.9343 - val_loss: 0.0252 - val_accuracy: 0.9677\n",
            "Epoch 3/10\n",
            "3750/3750 [==============================] - 58s 15ms/step - loss: 0.0424 - accuracy: 0.9454 - val_loss: 0.0223 - val_accuracy: 0.9714\n",
            "Epoch 4/10\n",
            "3750/3750 [==============================] - 57s 15ms/step - loss: 0.0383 - accuracy: 0.9506 - val_loss: 0.0213 - val_accuracy: 0.9724\n",
            "Epoch 5/10\n",
            "3750/3750 [==============================] - 57s 15ms/step - loss: 0.0349 - accuracy: 0.9544 - val_loss: 0.0199 - val_accuracy: 0.9743\n",
            "Epoch 6/10\n",
            "3750/3750 [==============================] - 57s 15ms/step - loss: 0.0329 - accuracy: 0.9574 - val_loss: 0.0186 - val_accuracy: 0.9762\n",
            "Epoch 7/10\n",
            "3750/3750 [==============================] - 59s 16ms/step - loss: 0.0322 - accuracy: 0.9588 - val_loss: 0.0150 - val_accuracy: 0.9808\n",
            "Epoch 8/10\n",
            "3750/3750 [==============================] - 58s 15ms/step - loss: 0.0302 - accuracy: 0.9610 - val_loss: 0.0167 - val_accuracy: 0.9785\n",
            "Epoch 9/10\n",
            "3750/3750 [==============================] - 58s 16ms/step - loss: 0.0302 - accuracy: 0.9609 - val_loss: 0.0140 - val_accuracy: 0.9824\n",
            "Epoch 10/10\n",
            "3750/3750 [==============================] - 58s 16ms/step - loss: 0.0287 - accuracy: 0.9629 - val_loss: 0.0147 - val_accuracy: 0.9810\n"
          ],
          "name": "stdout"
        }
      ]
    },
    {
      "cell_type": "markdown",
      "metadata": {
        "id": "oZ6161j9bpdy"
      },
      "source": [
        "## Visualize results"
      ]
    },
    {
      "cell_type": "code",
      "metadata": {
        "id": "dGtJX140bpdy",
        "outputId": "ba49387b-895b-4d48-af3f-0b5ef5bae637",
        "colab": {
          "base_uri": "https://localhost:8080/",
          "height": 573
        }
      },
      "source": [
        "\n",
        "def plt_metric(history, metric, title, has_valid=True):\n",
        "    \"\"\"Plots the given 'metric' from 'history'.\n",
        "\n",
        "    Arguments:\n",
        "        history: history attribute of History object returned from Model.fit.\n",
        "        metric: Metric to plot, a string value present as key in 'history'.\n",
        "        title: A string to be used as title of plot.\n",
        "        has_valid: Boolean, true if valid data was passed to Model.fit else false.\n",
        "\n",
        "    Returns:\n",
        "        None.\n",
        "    \"\"\"\n",
        "    plt.plot(history[metric])\n",
        "    if has_valid:\n",
        "        plt.plot(history[\"val_\" + metric])\n",
        "        plt.legend([\"train\", \"validation\"], loc=\"upper left\")\n",
        "    plt.title(title)\n",
        "    plt.ylabel(metric)\n",
        "    plt.xlabel(\"epoch\")\n",
        "    plt.show()\n",
        "\n",
        "\n",
        "# Plot the accuracy\n",
        "plt_metric(history=history.history, metric=\"accuracy\", title=\"Model accuracy\")\n",
        "\n",
        "# Plot the constrastive loss\n",
        "plt_metric(history=history.history, metric=\"loss\", title=\"Constrastive Loss\")"
      ],
      "execution_count": 19,
      "outputs": [
        {
          "output_type": "display_data",
          "data": {
            "image/png": "[encoded data removed]",
            "text/plain": [
              "<Figure size 432x288 with 1 Axes>"
            ]
          },
          "metadata": {
            "tags": [],
            "needs_background": "light"
          }
        },
        {
          "output_type": "display_data",
          "data": {
            "image/png": "[encoded data removed]",
            "text/plain": [
              "<Figure size 432x288 with 1 Axes>"
            ]
          },
          "metadata": {
            "tags": [],
            "needs_background": "light"
          }
        }
      ]
    },
    {
      "cell_type": "markdown",
      "metadata": {
        "id": "tTKbjWxebpdz"
      },
      "source": [
        "## Evaluate the model"
      ]
    },
    {
      "cell_type": "code",
      "metadata": {
        "id": "wh3SEcQTbpdz",
        "outputId": "8e635ebc-d12f-40c6-bab5-430e49220ef0",
        "colab": {
          "base_uri": "https://localhost:8080/"
        }
      },
      "source": [
        "results = siamese.evaluate([x_test_1, x_test_2], labels_test)\n",
        "print(\"test loss, test acc:\", results)"
      ],
      "execution_count": 20,
      "outputs": [
        {
          "output_type": "stream",
          "text": [
            "625/625 [==============================] - 6s 9ms/step - loss: 0.0127 - accuracy: 0.9844\n",
            "test loss, test acc: [0.01268379483371973, 0.9843999743461609]\n"
          ],
          "name": "stdout"
        }
      ]
    },
    {
      "cell_type": "markdown",
      "metadata": {
        "id": "o1HZQighbpdz"
      },
      "source": [
        "## Visualize the predictions"
      ]
    },
    {
      "cell_type": "code",
      "metadata": {
        "id": "alFOW-ftbpd0",
        "outputId": "e2a9ddfd-2a25-4b5e-c373-5ec6e408c8e7",
        "colab": {
          "base_uri": "https://localhost:8080/",
          "height": 124
        }
      },
      "source": [
        "predictions = siamese.predict([x_test_1, x_test_2])\n",
        "visualize(pairs_test, labels_test, to_show=3, predictions=predictions, test=True)"
      ],
      "execution_count": 21,
      "outputs": [
        {
          "output_type": "display_data",
          "data": {
            "image/png": "[encoded data removed]",
            "text/plain": [
              "<Figure size 360x360 with 3 Axes>"
            ]
          },
          "metadata": {
            "tags": [],
            "needs_background": "light"
          }
        }
      ]
    },
    {
      "cell_type": "code",
      "metadata": {
        "id": "HxtA7XSQfV2D"
      },
      "source": [
        ""
      ],
      "execution_count": null,
      "outputs": []
    }
  ]
}