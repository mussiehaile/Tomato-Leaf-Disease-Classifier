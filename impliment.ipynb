{
  "nbformat": 4,
  "nbformat_minor": 0,
  "metadata": {
    "colab": {
      "name": "transferd_neww.ipynb",
      "provenance": []
    },
    "kernelspec": {
      "name": "python3",
      "display_name": "Python 3"
    },
    "language_info": {
      "name": "python"
    },
    "accelerator": "GPU"
  },
  "cells": [
    {
      "cell_type": "code",
      "metadata": {
        "id": "iRWdLVgb_sz4"
      },
      "source": [
        "import tensorflow as tf\n",
        "import pandas as pd \n",
        "#from keras.utils import to_categorical\n",
        "import random\n",
        "import numpy as np\n",
        "import os\n",
        "import matplotlib.pyplot as plt\n",
        "\n",
        "from sklearn.model_selection import train_test_split\n",
        "from tensorflow.keras.layers import Input, Lambda, Dense, Flatten, Conv2D, MaxPooling2D, Dropout, Activation, BatchNormalization\n",
        "from tensorflow.keras.models import Model\n",
        "from tensorflow.keras.applications.inception_v3 import InceptionV3\n",
        "from keras.applications.vgg16 import VGG16\n",
        "from tensorflow.keras.applications.inception_v3 import preprocess_input\n",
        "from tensorflow.keras.preprocessing import image\n",
        "from tensorflow.keras.preprocessing.image import ImageDataGenerator,load_img, array_to_img, img_to_array\n",
        "from tensorflow.keras.models import Sequential\n",
        "from glob import glob\n",
        "from tensorflow.keras.callbacks import ModelCheckpoint"
      ],
      "execution_count": 1,
      "outputs": []
    },
    {
      "cell_type": "code",
      "metadata": {
        "id": "BixlZ7xHu1i5"
      },
      "source": [
        ""
      ],
      "execution_count": null,
      "outputs": []
    },
    {
      "cell_type": "code",
      "metadata": {
        "id": "D8zi1HZ0_sz4"
      },
      "source": [
        "# Define Constants by re-sizing all the images\n",
        "IMAGE_SIZE = [224, 224]\n",
        "\n",
        "train_dir='drive/MyDrive/copy/ne/train'\n",
        "validation_dir='drive/MyDrive/copy/ne/valid'\n",
        "test_dir='drive/MyDrive/copy/ne/test'"
      ],
      "execution_count": 13,
      "outputs": []
    },
    {
      "cell_type": "code",
      "metadata": {
        "colab": {
          "base_uri": "https://localhost:8080/"
        },
        "id": "DDfIQG8q6BnL",
        "outputId": "dd7cc8b1-3e0b-4fc6-f133-708479f677bb"
      },
      "source": [
        "#rom keras.applications import VGG16\n",
        "from tensorflow.keras.applications.vgg16 import VGG16\n",
        "vgg_model = VGG16(weights='imagenet', include_top=False,\n",
        "                                                      input_shape=(224, 224, 3))\n"
      ],
      "execution_count": 3,
      "outputs": [
        {
          "output_type": "stream",
          "text": [
            "Downloading data from https://storage.googleapis.com/tensorflow/keras-applications/vgg16/vgg16_weights_tf_dim_ordering_tf_kernels_notop.h5\n",
            "58892288/58889256 [==============================] - 1s 0us/step\n"
          ],
          "name": "stdout"
        }
      ]
    },
    {
      "cell_type": "code",
      "metadata": {
        "colab": {
          "base_uri": "https://localhost:8080/"
        },
        "id": "fBJCj8dw6TPG",
        "outputId": "adee3e81-5378-4259-eb37-7ae27f302414"
      },
      "source": [
        "# Freeze four convolution blocks\n",
        "for layer in vgg_model.layers[:15]:\n",
        "    layer.trainable = False# Make sure you have frozen the correct layers\n",
        "for i, layer in enumerate(vgg_model.layers):\n",
        "    print(i, layer.name, layer.trainable)"
      ],
      "execution_count": 4,
      "outputs": [
        {
          "output_type": "stream",
          "text": [
            "0 input_1 False\n",
            "1 block1_conv1 False\n",
            "2 block1_conv2 False\n",
            "3 block1_pool False\n",
            "4 block2_conv1 False\n",
            "5 block2_conv2 False\n",
            "6 block2_pool False\n",
            "7 block3_conv1 False\n",
            "8 block3_conv2 False\n",
            "9 block3_conv3 False\n",
            "10 block3_pool False\n",
            "11 block4_conv1 False\n",
            "12 block4_conv2 False\n",
            "13 block4_conv3 False\n",
            "14 block4_pool False\n",
            "15 block5_conv1 True\n",
            "16 block5_conv2 True\n",
            "17 block5_conv3 True\n",
            "18 block5_pool True\n"
          ],
          "name": "stdout"
        }
      ]
    },
    {
      "cell_type": "code",
      "metadata": {
        "id": "mmHp7WeW6akj"
      },
      "source": [
        "x = vgg_model.output\n",
        "x = Flatten()(x) # Flatten dimensions to for use in FC layers\n",
        "x = Dense(512, activation='relu')(x)\n",
        "x = Dropout(0.5)(x) # Dropout layer to reduce overfitting\n",
        "x = Dense(256, activation='relu')(x)\n",
        "x = Dense(10, activation='softmax')(x) # Softmax for multiclass\n",
        "transfer_model = Model(inputs=vgg_model.input, outputs=x)"
      ],
      "execution_count": 20,
      "outputs": []
    },
    {
      "cell_type": "code",
      "metadata": {
        "id": "IMZWqxTo6fDd"
      },
      "source": [
        "\n",
        "\n"
      ],
      "execution_count": null,
      "outputs": []
    },
    {
      "cell_type": "code",
      "metadata": {
        "id": "NyzL9N5R-LtC"
      },
      "source": [
        "checkpoint = ModelCheckpoint('vgg16_finetune.h15', monitor= 'val_accuracy', mode= 'max', save_best_only = True, verbose= 1)"
      ],
      "execution_count": 6,
      "outputs": []
    },
    {
      "cell_type": "code",
      "metadata": {
        "colab": {
          "base_uri": "https://localhost:8080/"
        },
        "id": "HPqnd4az6vm_",
        "outputId": "9c345daa-8c1c-403e-8398-54de53d4e152"
      },
      "source": [
        "from tensorflow.keras import layers, models, Model, optimizers\n",
        "learning_rate= 5e-5\n",
        "transfer_model.compile(loss=\"categorical_crossentropy\", \n",
        "optimizer=optimizers.Adam(lr=learning_rate), metrics=[\"accuracy\"])"
      ],
      "execution_count": 22,
      "outputs": [
        {
          "output_type": "stream",
          "text": [
            "/usr/local/lib/python3.7/dist-packages/tensorflow/python/keras/optimizer_v2/optimizer_v2.py:375: UserWarning: The `lr` argument is deprecated, use `learning_rate` instead.\n",
            "  \"The `lr` argument is deprecated, use `learning_rate` instead.\")\n"
          ],
          "name": "stderr"
        }
      ]
    },
    {
      "cell_type": "code",
      "metadata": {
        "id": "vqCVzHPN_s1c"
      },
      "source": [
        "# Using the Image Data Generator to import the images from the dataset\n",
        "from tensorflow.keras.preprocessing.image import ImageDataGenerator\n",
        "\n",
        "train_datagen = ImageDataGenerator(rescale = 1./255,\n",
        "                                   shear_range = 0.2,\n",
        "                                   zoom_range = 0.2,\n",
        "                                   horizontal_flip = False)\n",
        "valid_datagen=ImageDataGenerator(rescale=1./255)\n",
        "test_datagen = ImageDataGenerator(rescale = 1./255)"
      ],
      "execution_count": 8,
      "outputs": []
    },
    {
      "cell_type": "code",
      "metadata": {
        "colab": {
          "base_uri": "https://localhost:8080/"
        },
        "id": "YU54gCkV_s1c",
        "outputId": "a1007fea-e9df-4647-9c39-7c47f5c3ea69"
      },
      "source": [
        "# Training Generator\n",
        "training_set = train_datagen.flow_from_directory(train_dir,\n",
        "                                                 target_size = (224, 224),\n",
        "                                                 batch_size = 32,\n",
        "                                                 class_mode = 'categorical')"
      ],
      "execution_count": 9,
      "outputs": [
        {
          "output_type": "stream",
          "text": [
            "Found 18014 images belonging to 10 classes.\n"
          ],
          "name": "stdout"
        }
      ]
    },
    {
      "cell_type": "code",
      "metadata": {
        "colab": {
          "base_uri": "https://localhost:8080/"
        },
        "id": "TLK2dxHM_s1c",
        "outputId": "e16ca77d-313b-418f-c98a-9dc8beddc19f"
      },
      "source": [
        "# Testing Generator\n",
        "validation_set = valid_datagen.flow_from_directory(validation_dir,\n",
        "                                            target_size = (224, 224),\n",
        "                                            batch_size = 16,\n",
        "                                            class_mode = 'categorical')"
      ],
      "execution_count": 10,
      "outputs": [
        {
          "output_type": "stream",
          "text": [
            "Found 4585 images belonging to 10 classes.\n"
          ],
          "name": "stdout"
        }
      ]
    },
    {
      "cell_type": "code",
      "metadata": {
        "colab": {
          "base_uri": "https://localhost:8080/"
        },
        "id": "kwfWhvK-nc3N",
        "outputId": "993eebb1-11ed-49a1-f2fb-a670c6b64c56"
      },
      "source": [
        "# Testing Generator\n",
        "test_set = test_datagen.flow_from_directory(test_dir,\n",
        "                                            target_size = (224, 224),\n",
        "                                            batch_size = 10\n",
        "                                            )"
      ],
      "execution_count": 14,
      "outputs": [
        {
          "output_type": "stream",
          "text": [
            "Found 330 images belonging to 10 classes.\n"
          ],
          "name": "stdout"
        }
      ]
    },
    {
      "cell_type": "code",
      "metadata": {
        "id": "t9tnx0QCkyhZ"
      },
      "source": [
        "checkpoint_filepath = '/tmp/checkpoint'\n",
        "model_checkpoint_callback = ModelCheckpoint(\n",
        "filepath=checkpoint_filepath,\n",
        "save_weights_only=True,\n",
        "monitor='val_acc',\n",
        "mode='max',\n",
        "save_best_only=True)"
      ],
      "execution_count": 15,
      "outputs": []
    },
    {
      "cell_type": "code",
      "metadata": {
        "id": "uxBpSCKduxfj"
      },
      "source": [
        ""
      ],
      "execution_count": null,
      "outputs": []
    },
    {
      "cell_type": "code",
      "metadata": {
        "colab": {
          "base_uri": "https://localhost:8080/"
        },
        "id": "snQxk4Kk_s1c",
        "outputId": "7f90e3dd-8b35-457d-cd8a-c00f54bedfe1"
      },
      "source": [
        "# fit the model, it will take some time to execute\n",
        "r = transfer_model.fit_generator(\n",
        "  training_set,\n",
        "  steps_per_epoch=len(training_set)//32,\n",
        "  epochs=50,\n",
        "  validation_data=validation_set,\n",
        "  validation_steps=len(validation_set)/16)\n"
      ],
      "execution_count": 24,
      "outputs": [
        {
          "output_type": "stream",
          "text": [
            "/usr/local/lib/python3.7/dist-packages/tensorflow/python/keras/engine/training.py:1940: UserWarning: `Model.fit_generator` is deprecated and will be removed in a future version. Please use `Model.fit`, which supports generators.\n",
            "  warnings.warn('`Model.fit_generator` is deprecated and '\n"
          ],
          "name": "stderr"
        },
        {
          "output_type": "stream",
          "text": [
            "Epoch 1/50\n",
            "17/17 [==============================] - 199s 12s/step - loss: 2.0216 - accuracy: 0.2886 - val_loss: 1.6677 - val_accuracy: 0.4965\n",
            "Epoch 2/50\n",
            "17/17 [==============================] - 194s 12s/step - loss: 1.7378 - accuracy: 0.4265 - val_loss: 1.3499 - val_accuracy: 0.5938\n",
            "Epoch 3/50\n",
            "17/17 [==============================] - 190s 11s/step - loss: 1.3974 - accuracy: 0.5533 - val_loss: 1.0801 - val_accuracy: 0.6424\n",
            "Epoch 4/50\n",
            "17/17 [==============================] - 177s 11s/step - loss: 1.2889 - accuracy: 0.5680 - val_loss: 0.9830 - val_accuracy: 0.6806\n",
            "Epoch 5/50\n",
            "17/17 [==============================] - 177s 11s/step - loss: 1.2132 - accuracy: 0.5919 - val_loss: 0.8499 - val_accuracy: 0.7222\n",
            "Epoch 6/50\n",
            "17/17 [==============================] - 164s 10s/step - loss: 0.9500 - accuracy: 0.6710 - val_loss: 0.8593 - val_accuracy: 0.7188\n",
            "Epoch 7/50\n",
            "17/17 [==============================] - 145s 9s/step - loss: 0.8491 - accuracy: 0.7261 - val_loss: 0.8267 - val_accuracy: 0.7153\n",
            "Epoch 8/50\n",
            "17/17 [==============================] - 148s 9s/step - loss: 0.8524 - accuracy: 0.7151 - val_loss: 0.5901 - val_accuracy: 0.8056\n",
            "Epoch 9/50\n",
            "17/17 [==============================] - 135s 8s/step - loss: 0.7473 - accuracy: 0.7555 - val_loss: 0.6034 - val_accuracy: 0.8090\n",
            "Epoch 10/50\n",
            "17/17 [==============================] - 134s 8s/step - loss: 0.6912 - accuracy: 0.7776 - val_loss: 0.7314 - val_accuracy: 0.7674\n",
            "Epoch 11/50\n",
            "17/17 [==============================] - 132s 8s/step - loss: 0.7657 - accuracy: 0.7629 - val_loss: 0.7328 - val_accuracy: 0.7326\n",
            "Epoch 12/50\n",
            "17/17 [==============================] - 129s 8s/step - loss: 0.6839 - accuracy: 0.7868 - val_loss: 0.5416 - val_accuracy: 0.8229\n",
            "Epoch 13/50\n",
            "17/17 [==============================] - 136s 8s/step - loss: 0.6775 - accuracy: 0.7831 - val_loss: 0.6559 - val_accuracy: 0.7986\n",
            "Epoch 14/50\n",
            "17/17 [==============================] - 121s 7s/step - loss: 0.7317 - accuracy: 0.7408 - val_loss: 0.6485 - val_accuracy: 0.7812\n",
            "Epoch 15/50\n",
            "17/17 [==============================] - 110s 7s/step - loss: 0.6554 - accuracy: 0.7996 - val_loss: 0.4942 - val_accuracy: 0.8542\n",
            "Epoch 16/50\n",
            "17/17 [==============================] - 101s 6s/step - loss: 0.6584 - accuracy: 0.7849 - val_loss: 0.4835 - val_accuracy: 0.8507\n",
            "Epoch 17/50\n",
            "17/17 [==============================] - 110s 7s/step - loss: 0.5095 - accuracy: 0.8272 - val_loss: 0.4399 - val_accuracy: 0.8507\n",
            "Epoch 18/50\n",
            "17/17 [==============================] - 105s 6s/step - loss: 0.5280 - accuracy: 0.8272 - val_loss: 0.4066 - val_accuracy: 0.8576\n",
            "Epoch 19/50\n",
            "17/17 [==============================] - 96s 6s/step - loss: 0.5369 - accuracy: 0.8235 - val_loss: 0.4420 - val_accuracy: 0.8542\n",
            "Epoch 20/50\n",
            "17/17 [==============================] - 95s 6s/step - loss: 0.5304 - accuracy: 0.8162 - val_loss: 0.4332 - val_accuracy: 0.8646\n",
            "Epoch 21/50\n",
            "17/17 [==============================] - 118s 7s/step - loss: 0.4895 - accuracy: 0.8419 - val_loss: 0.4825 - val_accuracy: 0.8333\n",
            "Epoch 22/50\n",
            "17/17 [==============================] - 88s 5s/step - loss: 0.4286 - accuracy: 0.8732 - val_loss: 0.3721 - val_accuracy: 0.8750\n",
            "Epoch 23/50\n",
            "17/17 [==============================] - 78s 5s/step - loss: 0.4636 - accuracy: 0.8419 - val_loss: 0.4785 - val_accuracy: 0.8403\n",
            "Epoch 24/50\n",
            "17/17 [==============================] - 83s 5s/step - loss: 0.3901 - accuracy: 0.8621 - val_loss: 0.4138 - val_accuracy: 0.8611\n",
            "Epoch 25/50\n",
            "17/17 [==============================] - 77s 5s/step - loss: 0.4103 - accuracy: 0.8585 - val_loss: 0.5389 - val_accuracy: 0.8299\n",
            "Epoch 26/50\n",
            "17/17 [==============================] - 78s 5s/step - loss: 0.4247 - accuracy: 0.8603 - val_loss: 0.2850 - val_accuracy: 0.8993\n",
            "Epoch 27/50\n",
            "17/17 [==============================] - 76s 4s/step - loss: 0.4531 - accuracy: 0.8561 - val_loss: 0.3207 - val_accuracy: 0.9132\n",
            "Epoch 28/50\n",
            "17/17 [==============================] - 70s 4s/step - loss: 0.4043 - accuracy: 0.8750 - val_loss: 0.3626 - val_accuracy: 0.8681\n",
            "Epoch 29/50\n",
            "17/17 [==============================] - 74s 4s/step - loss: 0.4186 - accuracy: 0.8695 - val_loss: 0.3563 - val_accuracy: 0.8576\n",
            "Epoch 30/50\n",
            "17/17 [==============================] - 66s 4s/step - loss: 0.4297 - accuracy: 0.8346 - val_loss: 0.3458 - val_accuracy: 0.8785\n",
            "Epoch 31/50\n",
            "17/17 [==============================] - 67s 4s/step - loss: 0.3532 - accuracy: 0.8879 - val_loss: 0.3798 - val_accuracy: 0.8715\n",
            "Epoch 32/50\n",
            "17/17 [==============================] - 61s 4s/step - loss: 0.4177 - accuracy: 0.8585 - val_loss: 0.3703 - val_accuracy: 0.8681\n",
            "Epoch 33/50\n",
            "17/17 [==============================] - 63s 4s/step - loss: 0.3184 - accuracy: 0.8952 - val_loss: 0.2564 - val_accuracy: 0.9201\n",
            "Epoch 34/50\n",
            "17/17 [==============================] - 55s 3s/step - loss: 0.3429 - accuracy: 0.8805 - val_loss: 0.3634 - val_accuracy: 0.8819\n",
            "Epoch 35/50\n",
            "17/17 [==============================] - 59s 4s/step - loss: 0.3645 - accuracy: 0.8860 - val_loss: 0.3290 - val_accuracy: 0.8993\n",
            "Epoch 36/50\n",
            "17/17 [==============================] - 53s 3s/step - loss: 0.3512 - accuracy: 0.8658 - val_loss: 0.3210 - val_accuracy: 0.8785\n",
            "Epoch 37/50\n",
            "17/17 [==============================] - 53s 3s/step - loss: 0.2990 - accuracy: 0.9044 - val_loss: 0.2291 - val_accuracy: 0.9271\n",
            "Epoch 38/50\n",
            "17/17 [==============================] - 52s 3s/step - loss: 0.2859 - accuracy: 0.9062 - val_loss: 0.2590 - val_accuracy: 0.9062\n",
            "Epoch 39/50\n",
            "17/17 [==============================] - 47s 3s/step - loss: 0.3034 - accuracy: 0.9099 - val_loss: 0.3157 - val_accuracy: 0.8924\n",
            "Epoch 40/50\n",
            "17/17 [==============================] - 53s 3s/step - loss: 0.2597 - accuracy: 0.9044 - val_loss: 0.2392 - val_accuracy: 0.9306\n",
            "Epoch 41/50\n",
            "17/17 [==============================] - 44s 3s/step - loss: 0.2858 - accuracy: 0.8971 - val_loss: 0.3570 - val_accuracy: 0.8715\n",
            "Epoch 42/50\n",
            "17/17 [==============================] - 41s 2s/step - loss: 0.2413 - accuracy: 0.9081 - val_loss: 0.3255 - val_accuracy: 0.8924\n",
            "Epoch 43/50\n",
            "17/17 [==============================] - 41s 2s/step - loss: 0.2282 - accuracy: 0.9283 - val_loss: 0.2871 - val_accuracy: 0.9028\n",
            "Epoch 44/50\n",
            "17/17 [==============================] - 41s 2s/step - loss: 0.2433 - accuracy: 0.9099 - val_loss: 0.2306 - val_accuracy: 0.8924\n",
            "Epoch 45/50\n",
            "17/17 [==============================] - 41s 2s/step - loss: 0.2403 - accuracy: 0.9265 - val_loss: 0.2877 - val_accuracy: 0.8958\n",
            "Epoch 46/50\n",
            "17/17 [==============================] - 56s 3s/step - loss: 0.2492 - accuracy: 0.9173 - val_loss: 0.2269 - val_accuracy: 0.9340\n",
            "Epoch 47/50\n",
            "17/17 [==============================] - 37s 2s/step - loss: 0.2959 - accuracy: 0.9007 - val_loss: 0.2472 - val_accuracy: 0.9201\n",
            "Epoch 48/50\n",
            "17/17 [==============================] - 39s 2s/step - loss: 0.2772 - accuracy: 0.9099 - val_loss: 0.1613 - val_accuracy: 0.9479\n",
            "Epoch 49/50\n",
            "17/17 [==============================] - 35s 2s/step - loss: 0.2400 - accuracy: 0.9246 - val_loss: 0.2007 - val_accuracy: 0.9444\n",
            "Epoch 50/50\n",
            "17/17 [==============================] - 35s 2s/step - loss: 0.3225 - accuracy: 0.9007 - val_loss: 0.2670 - val_accuracy: 0.9028\n"
          ],
          "name": "stdout"
        }
      ]
    },
    {
      "cell_type": "code",
      "metadata": {
        "id": "x9MeZwT-_s1c",
        "colab": {
          "base_uri": "https://localhost:8080/",
          "height": 530
        },
        "outputId": "7100686a-f2cc-4129-daf1-4899b40dd9d1"
      },
      "source": [
        "# Plot the Loss and Accuracy\n",
        "# Loss\n",
        "plt.plot(r.history['loss'], label='train loss')\n",
        "plt.plot(r.history['val_loss'], label='val loss')\n",
        "plt.legend()\n",
        "plt.show()\n",
        "plt.savefig('LossVal_loss')\n",
        "\n",
        "# Accuracy\n",
        "plt.plot(r.history['accuracy'], label='train acc')\n",
        "plt.plot(r.history['val_accuracy'], label='val acc')\n",
        "plt.legend()\n",
        "plt.show()\n",
        "plt.savefig('AccVal_acc')"
      ],
      "execution_count": 25,
      "outputs": [
        {
          "output_type": "display_data",
          "data": {
            "image/png": "[encoded data removed]",
            "text/plain": [
              "<Figure size 432x288 with 1 Axes>"
            ]
          },
          "metadata": {
            "tags": [],
            "needs_background": "light"
          }
        },
        {
          "output_type": "display_data",
          "data": {
            "image/png": "[encoded data removed]",
            "text/plain": [
              "<Figure size 432x288 with 1 Axes>"
            ]
          },
          "metadata": {
            "tags": [],
            "needs_background": "light"
          }
        },
        {
          "output_type": "display_data",
          "data": {
            "text/plain": [
              "<Figure size 432x288 with 0 Axes>"
            ]
          },
          "metadata": {
            "tags": []
          }
        }
      ]
    },
    {
      "cell_type": "code",
      "metadata": {
        "id": "feEKG-YE-wHf"
      },
      "source": [
        ""
      ],
      "execution_count": null,
      "outputs": []
    },
    {
      "cell_type": "code",
      "metadata": {
        "id": "OlXl5det_s1c"
      },
      "source": [
        "# Saving the model as a h5 file\n",
        "\n",
        "from tensorflow.keras.models import load_model\n",
        "transfer_model.save('transfer_for new.h5')"
      ],
      "execution_count": 26,
      "outputs": []
    },
    {
      "cell_type": "code",
      "metadata": {
        "colab": {
          "base_uri": "https://localhost:8080/"
        },
        "id": "avsnlgqLi1yT",
        "outputId": "a7ed522d-17ce-41bc-ca21-1cce6b796461"
      },
      "source": [
        "model.metrics_names"
      ],
      "execution_count": 46,
      "outputs": [
        {
          "output_type": "execute_result",
          "data": {
            "text/plain": [
              "['loss', 'accuracy']"
            ]
          },
          "metadata": {
            "tags": []
          },
          "execution_count": 46
        }
      ]
    },
    {
      "cell_type": "code",
      "metadata": {
        "colab": {
          "base_uri": "https://localhost:8080/"
        },
        "id": "2p0Zd8B-jKNz",
        "outputId": "39bab14b-822e-4ba9-ffbf-97ce6211ac5a"
      },
      "source": [
        "score=model.evaluate_generator(test_set)"
      ],
      "execution_count": 48,
      "outputs": [
        {
          "output_type": "stream",
          "text": [
            "/usr/local/lib/python3.7/dist-packages/tensorflow/python/keras/engine/training.py:1973: UserWarning: `Model.evaluate_generator` is deprecated and will be removed in a future version. Please use `Model.evaluate`, which supports generators.\n",
            "  warnings.warn('`Model.evaluate_generator` is deprecated and '\n"
          ],
          "name": "stderr"
        }
      ]
    },
    {
      "cell_type": "code",
      "metadata": {
        "colab": {
          "base_uri": "https://localhost:8080/"
        },
        "id": "w8OfnBmnjfZT",
        "outputId": "dc13bf8b-d0c2-40b7-fa02-28bd7d1a6bae"
      },
      "source": [
        "score"
      ],
      "execution_count": 49,
      "outputs": [
        {
          "output_type": "execute_result",
          "data": {
            "text/plain": [
              "[0.3749517798423767, 0.8696969747543335]"
            ]
          },
          "metadata": {
            "tags": []
          },
          "execution_count": 49
        }
      ]
    },
    {
      "cell_type": "code",
      "metadata": {
        "id": "DM6UfM6e_s1c",
        "colab": {
          "base_uri": "https://localhost:8080/"
        },
        "outputId": "286c605e-4d73-403b-b91f-856cb644e91a"
      },
      "source": [
        "prediction = transfer_model.predict(test_set)\n",
        "prediction"
      ],
      "execution_count": 40,
      "outputs": [
        {
          "output_type": "execute_result",
          "data": {
            "text/plain": [
              "array([[8.8435274e-07, 2.2118144e-05, 4.6256617e-05, ..., 1.3395420e-06,\n",
              "        5.2853069e-05, 2.4097167e-07],\n",
              "       [2.1111590e-04, 1.2573690e-02, 6.4633598e-05, ..., 1.2549388e-04,\n",
              "        4.2566154e-03, 4.1131349e-03],\n",
              "       [1.0183354e-06, 1.1971560e-03, 1.5496693e-06, ..., 1.2678991e-05,\n",
              "        2.5384612e-03, 1.2955198e-04],\n",
              "       ...,\n",
              "       [3.3267781e-05, 5.8691389e-06, 9.8058175e-09, ..., 9.9994135e-01,\n",
              "        3.8979210e-06, 1.7671232e-07],\n",
              "       [8.7140268e-04, 9.6124259e-04, 1.0511974e-04, ..., 7.5915479e-05,\n",
              "        3.5182358e-04, 2.3829129e-04],\n",
              "       [2.3559445e-05, 5.0627645e-03, 2.2106981e-04, ..., 4.8680713e-06,\n",
              "        7.8310193e-05, 3.2802533e-02]], dtype=float32)"
            ]
          },
          "metadata": {
            "tags": []
          },
          "execution_count": 40
        }
      ]
    },
    {
      "cell_type": "code",
      "metadata": {
        "id": "KqBOP9K__s1c",
        "colab": {
          "base_uri": "https://localhost:8080/"
        },
        "outputId": "5c4a764a-2752-474d-962b-41108da93d3f"
      },
      "source": [
        "import numpy as np\n",
        "y_pred = np.argmax(prediction, axis=1)\n",
        "y_pred"
      ],
      "execution_count": 41,
      "outputs": [
        {
          "output_type": "execute_result",
          "data": {
            "text/plain": [
              "array([3, 6, 5, 7, 5, 8, 9, 5, 2, 3, 7, 6, 9, 8, 0, 9, 7, 5, 6, 8, 0, 8,\n",
              "       1, 8, 5, 5, 7, 8, 1, 8, 6, 0, 7, 5, 5, 4, 7, 3, 7, 5, 5, 4, 0, 4,\n",
              "       7, 4, 9, 6, 4, 9, 2, 6, 6, 7, 3, 6, 0, 6, 5, 7, 1, 7, 0, 7, 8, 0,\n",
              "       8, 6, 4, 3, 8, 7, 5, 0, 3, 9, 7, 8, 5, 9, 7, 2, 5, 0, 5, 2, 2, 5,\n",
              "       1, 7, 1, 8, 5, 0, 9, 8, 1, 0, 8, 2, 0, 1, 5, 3, 4, 3, 1, 7, 6, 9,\n",
              "       7, 5, 5, 9, 5, 4, 9, 3, 9, 8, 6, 9, 0, 0, 0, 9, 3, 3, 1, 3, 1, 1,\n",
              "       8, 8, 9, 1, 6, 0, 4, 4, 4, 6, 7, 9, 3, 8, 3, 9, 8, 5, 8, 2, 2, 4,\n",
              "       0, 0, 4, 1, 6, 0, 8, 6, 2, 1, 0, 8, 2, 9, 7, 4, 0, 0, 5, 6, 4, 5,\n",
              "       1, 6, 8, 6, 6, 3, 6, 8, 9, 4, 1, 1, 3, 0, 4, 0, 8, 7, 9, 8, 5, 4,\n",
              "       2, 5, 1, 0, 2, 5, 7, 0, 3, 0, 4, 9, 1, 0, 6, 8, 7, 9, 3, 9, 8, 4,\n",
              "       6, 5, 8, 0, 6, 0, 3, 6, 0, 3, 3, 0, 5, 4, 3, 5, 8, 6, 4, 5, 4, 3,\n",
              "       1, 0, 5, 2, 1, 8, 6, 4, 1, 7, 4, 1, 1, 5, 6, 7, 6, 2, 6, 9, 2, 2,\n",
              "       9, 8, 6, 0, 1, 6, 4, 6, 4, 4, 1, 2, 5, 3, 9, 5, 6, 0, 8, 7, 3, 4,\n",
              "       2, 0, 2, 4, 7, 9, 3, 3, 9, 9, 9, 1, 0, 2, 9, 3, 5, 7, 2, 4, 1, 4,\n",
              "       5, 8, 5, 4, 3, 9, 7, 2, 5, 7, 8, 5, 2, 4, 5, 4, 0, 3, 6, 7, 4, 6])"
            ]
          },
          "metadata": {
            "tags": []
          },
          "execution_count": 41
        }
      ]
    },
    {
      "cell_type": "code",
      "metadata": {
        "id": "tJTCDMChFE2Y"
      },
      "source": [
        ""
      ],
      "execution_count": 59,
      "outputs": []
    },
    {
      "cell_type": "code",
      "metadata": {
        "id": "7jiFTueQWeJv"
      },
      "source": [
        ""
      ],
      "execution_count": 59,
      "outputs": []
    },
    {
      "cell_type": "code",
      "metadata": {
        "id": "L69BneSRWm_a",
        "colab": {
          "base_uri": "https://localhost:8080/",
          "height": 1000
        },
        "outputId": "4bbd2090-2e68-44e1-a67b-11b078b781d6"
      },
      "source": [
        "from tensorflow import keras\n",
        "import tensorflow as tf\n",
        "from tensorflow.python.framework.convert_to_constants import convert_variables_to_constants_v2\n",
        "import numpy as np\n",
        "\n",
        "\n",
        "model = keras.models.load_model('transfer_for new.h5')\n",
        "\n",
        "# Convert Keras model to ConcreteFunction\n",
        "full_model = tf.function(lambda x: model(x))\n",
        "full_model = full_model.get_concrete_function(\n",
        "    x=tf.TensorSpec(model.inputs[0].shape, model.inputs[0].dtype))\n",
        "\n",
        "# Get frozen ConcreteFunction\n",
        "frozen_func = convert_variables_to_constants_v2(full_model)\n",
        "frozen_func.graph.as_graph_def()\n",
        "\n",
        "# inspect the layers operations inside your frozen graph definition and see the name of its input and output tensors\n",
        "layers = [op.name for op in frozen_func.graph.get_operations()]\n",
        "print(\"-\" * 50)\n",
        "print(\"Frozen model layers: \")\n",
        "for layer in layers:\n",
        "    print(layer)\n",
        "\n",
        "print(\"-\" * 50)\n",
        "print(\"Frozen model inputs: \")\n",
        "print(frozen_func.inputs)\n",
        "print(\"Frozen model outputs: \")\n",
        "print(frozen_func.outputs)\n",
        "\n",
        "# Save frozen graph from frozen ConcreteFunction to hard drive\n",
        "# serialize the frozen graph and its text representation to disk.\n",
        "tf.io.write_graph(graph_or_graph_def=frozen_func.graph,\n",
        "                  logdir=\"./frozen_models\",\n",
        "                  name=\"simple_frozen_graph.pb\",\n",
        "                  as_text=False)\n",
        "\n",
        "#Optional\n",
        "tf.io.write_graph(graph_or_graph_def=frozen_func.graph,\n",
        "                  logdir=\"./frozen_models\",\n",
        "                  name=\"simple_frozen_graph.pbtxt\",\n",
        "                as_text=True)"
      ],
      "execution_count": 29,
      "outputs": [
        {
          "output_type": "stream",
          "text": [
            "--------------------------------------------------\n",
            "Frozen model layers: \n",
            "x\n",
            "model_1/block1_conv1/Conv2D/ReadVariableOp/resource\n",
            "model_1/block1_conv1/Conv2D/ReadVariableOp\n",
            "model_1/block1_conv1/Conv2D\n",
            "model_1/block1_conv1/BiasAdd/ReadVariableOp/resource\n",
            "model_1/block1_conv1/BiasAdd/ReadVariableOp\n",
            "model_1/block1_conv1/BiasAdd\n",
            "model_1/block1_conv1/Relu\n",
            "model_1/block1_conv2/Conv2D/ReadVariableOp/resource\n",
            "model_1/block1_conv2/Conv2D/ReadVariableOp\n",
            "model_1/block1_conv2/Conv2D\n",
            "model_1/block1_conv2/BiasAdd/ReadVariableOp/resource\n",
            "model_1/block1_conv2/BiasAdd/ReadVariableOp\n",
            "model_1/block1_conv2/BiasAdd\n",
            "model_1/block1_conv2/Relu\n",
            "model_1/block1_pool/MaxPool\n",
            "model_1/block2_conv1/Conv2D/ReadVariableOp/resource\n",
            "model_1/block2_conv1/Conv2D/ReadVariableOp\n",
            "model_1/block2_conv1/Conv2D\n",
            "model_1/block2_conv1/BiasAdd/ReadVariableOp/resource\n",
            "model_1/block2_conv1/BiasAdd/ReadVariableOp\n",
            "model_1/block2_conv1/BiasAdd\n",
            "model_1/block2_conv1/Relu\n",
            "model_1/block2_conv2/Conv2D/ReadVariableOp/resource\n",
            "model_1/block2_conv2/Conv2D/ReadVariableOp\n",
            "model_1/block2_conv2/Conv2D\n",
            "model_1/block2_conv2/BiasAdd/ReadVariableOp/resource\n",
            "model_1/block2_conv2/BiasAdd/ReadVariableOp\n",
            "model_1/block2_conv2/BiasAdd\n",
            "model_1/block2_conv2/Relu\n",
            "model_1/block2_pool/MaxPool\n",
            "model_1/block3_conv1/Conv2D/ReadVariableOp/resource\n",
            "model_1/block3_conv1/Conv2D/ReadVariableOp\n",
            "model_1/block3_conv1/Conv2D\n",
            "model_1/block3_conv1/BiasAdd/ReadVariableOp/resource\n",
            "model_1/block3_conv1/BiasAdd/ReadVariableOp\n",
            "model_1/block3_conv1/BiasAdd\n",
            "model_1/block3_conv1/Relu\n",
            "model_1/block3_conv2/Conv2D/ReadVariableOp/resource\n",
            "model_1/block3_conv2/Conv2D/ReadVariableOp\n",
            "model_1/block3_conv2/Conv2D\n",
            "model_1/block3_conv2/BiasAdd/ReadVariableOp/resource\n",
            "model_1/block3_conv2/BiasAdd/ReadVariableOp\n",
            "model_1/block3_conv2/BiasAdd\n",
            "model_1/block3_conv2/Relu\n",
            "model_1/block3_conv3/Conv2D/ReadVariableOp/resource\n",
            "model_1/block3_conv3/Conv2D/ReadVariableOp\n",
            "model_1/block3_conv3/Conv2D\n",
            "model_1/block3_conv3/BiasAdd/ReadVariableOp/resource\n",
            "model_1/block3_conv3/BiasAdd/ReadVariableOp\n",
            "model_1/block3_conv3/BiasAdd\n",
            "model_1/block3_conv3/Relu\n",
            "model_1/block3_pool/MaxPool\n",
            "model_1/block4_conv1/Conv2D/ReadVariableOp/resource\n",
            "model_1/block4_conv1/Conv2D/ReadVariableOp\n",
            "model_1/block4_conv1/Conv2D\n",
            "model_1/block4_conv1/BiasAdd/ReadVariableOp/resource\n",
            "model_1/block4_conv1/BiasAdd/ReadVariableOp\n",
            "model_1/block4_conv1/BiasAdd\n",
            "model_1/block4_conv1/Relu\n",
            "model_1/block4_conv2/Conv2D/ReadVariableOp/resource\n",
            "model_1/block4_conv2/Conv2D/ReadVariableOp\n",
            "model_1/block4_conv2/Conv2D\n",
            "model_1/block4_conv2/BiasAdd/ReadVariableOp/resource\n",
            "model_1/block4_conv2/BiasAdd/ReadVariableOp\n",
            "model_1/block4_conv2/BiasAdd\n",
            "model_1/block4_conv2/Relu\n",
            "model_1/block4_conv3/Conv2D/ReadVariableOp/resource\n",
            "model_1/block4_conv3/Conv2D/ReadVariableOp\n",
            "model_1/block4_conv3/Conv2D\n",
            "model_1/block4_conv3/BiasAdd/ReadVariableOp/resource\n",
            "model_1/block4_conv3/BiasAdd/ReadVariableOp\n",
            "model_1/block4_conv3/BiasAdd\n",
            "model_1/block4_conv3/Relu\n",
            "model_1/block4_pool/MaxPool\n",
            "model_1/block5_conv1/Conv2D/ReadVariableOp/resource\n",
            "model_1/block5_conv1/Conv2D/ReadVariableOp\n",
            "model_1/block5_conv1/Conv2D\n",
            "model_1/block5_conv1/BiasAdd/ReadVariableOp/resource\n",
            "model_1/block5_conv1/BiasAdd/ReadVariableOp\n",
            "model_1/block5_conv1/BiasAdd\n",
            "model_1/block5_conv1/Relu\n",
            "model_1/block5_conv2/Conv2D/ReadVariableOp/resource\n",
            "model_1/block5_conv2/Conv2D/ReadVariableOp\n",
            "model_1/block5_conv2/Conv2D\n",
            "model_1/block5_conv2/BiasAdd/ReadVariableOp/resource\n",
            "model_1/block5_conv2/BiasAdd/ReadVariableOp\n",
            "model_1/block5_conv2/BiasAdd\n",
            "model_1/block5_conv2/Relu\n",
            "model_1/block5_conv3/Conv2D/ReadVariableOp/resource\n",
            "model_1/block5_conv3/Conv2D/ReadVariableOp\n",
            "model_1/block5_conv3/Conv2D\n",
            "model_1/block5_conv3/BiasAdd/ReadVariableOp/resource\n",
            "model_1/block5_conv3/BiasAdd/ReadVariableOp\n",
            "model_1/block5_conv3/BiasAdd\n",
            "model_1/block5_conv3/Relu\n",
            "model_1/block5_pool/MaxPool\n",
            "model_1/flatten_1/Const\n",
            "model_1/flatten_1/Reshape\n",
            "model_1/dense_3/MatMul/ReadVariableOp/resource\n",
            "model_1/dense_3/MatMul/ReadVariableOp\n",
            "model_1/dense_3/MatMul\n",
            "model_1/dense_3/BiasAdd/ReadVariableOp/resource\n",
            "model_1/dense_3/BiasAdd/ReadVariableOp\n",
            "model_1/dense_3/BiasAdd\n",
            "model_1/dense_3/Relu\n",
            "model_1/dropout_1/Identity\n",
            "model_1/dense_4/MatMul/ReadVariableOp/resource\n",
            "model_1/dense_4/MatMul/ReadVariableOp\n",
            "model_1/dense_4/MatMul\n",
            "model_1/dense_4/BiasAdd/ReadVariableOp/resource\n",
            "model_1/dense_4/BiasAdd/ReadVariableOp\n",
            "model_1/dense_4/BiasAdd\n",
            "model_1/dense_4/Relu\n",
            "model_1/dense_5/MatMul/ReadVariableOp/resource\n",
            "model_1/dense_5/MatMul/ReadVariableOp\n",
            "model_1/dense_5/MatMul\n",
            "model_1/dense_5/BiasAdd/ReadVariableOp/resource\n",
            "model_1/dense_5/BiasAdd/ReadVariableOp\n",
            "model_1/dense_5/BiasAdd\n",
            "model_1/dense_5/Softmax\n",
            "Identity\n",
            "--------------------------------------------------\n",
            "Frozen model inputs: \n",
            "[<tf.Tensor 'x:0' shape=(None, 224, 224, 3) dtype=float32>]\n",
            "Frozen model outputs: \n",
            "[<tf.Tensor 'Identity:0' shape=(None, 10) dtype=float32>]\n"
          ],
          "name": "stdout"
        },
        {
          "output_type": "execute_result",
          "data": {
            "application/vnd.google.colaboratory.intrinsic+json": {
              "type": "string"
            },
            "text/plain": [
              "'./frozen_models/simple_frozen_graph.pbtxt'"
            ]
          },
          "metadata": {
            "tags": []
          },
          "execution_count": 29
        }
      ]
    },
    {
      "cell_type": "code",
      "metadata": {
        "id": "zymOlVdVfnzy"
      },
      "source": [
        "from sklearn.metrics import confusion_matrix\n",
        "%matplotlib inline\n",
        "import itertools\n",
        "cm = confusion_matrix(y_true=test_set.classes, y_pred=np.argmax(prediction, axis=-1))\n",
        "classes=10"
      ],
      "execution_count": 43,
      "outputs": []
    },
    {
      "cell_type": "code",
      "metadata": {
        "id": "uuL-6tklQQlI"
      },
      "source": [
        "def plot_confusion_matrix(cm, classes,\n",
        "                          normalize=False,\n",
        "                          title='Confusion matrix',\n",
        "                          cmap=plt.cm.Blues):\n",
        "    \"\"\"\n",
        "    This function prints and plots the confusion matrix.\n",
        "    Normalization can be applied by setting `normalize=True`.\n",
        "    \"\"\"\n",
        "    plt.imshow(cm, interpolation='nearest', cmap=cmap)\n",
        "    plt.title(title)\n",
        "    plt.colorbar()\n",
        "    tick_marks = np.arange(len(classes))\n",
        "    plt.xticks(tick_marks, classes, rotation=45)\n",
        "    plt.yticks(tick_marks, classes)\n",
        "\n",
        "    if normalize:\n",
        "        cm = cm.astype('float') / cm.sum(axis=1)[:, np.newaxis]\n",
        "        print(\"Normalized confusion matrix\")\n",
        "    else:\n",
        "        print('Confusion matrix, without normalization')\n",
        "\n",
        "    print(cm)\n",
        "\n",
        "    thresh = cm.max() / 2.\n",
        "    for i, j in itertools.product(range(cm.shape[0]), range(cm.shape[1])):\n",
        "        plt.text(j, i, cm[i, j],\n",
        "            horizontalalignment=\"center\",\n",
        "            color=\"white\" if cm[i, j] > thresh else \"black\")\n",
        "\n",
        "    plt.tight_layout()\n",
        "    plt.ylabel('True label')\n",
        "    plt.xlabel('Predicted label')"
      ],
      "execution_count": 44,
      "outputs": []
    },
    {
      "cell_type": "code",
      "metadata": {
        "colab": {
          "base_uri": "https://localhost:8080/",
          "height": 502
        },
        "id": "0C3Ry_pgb5KP",
        "outputId": "86d00398-e978-4f7a-def7-476147c56d05"
      },
      "source": [
        "cm_plot_labels = ['value','near']\n",
        "plot_confusion_matrix(cm=cm, classes=cm_plot_labels, title='Confusion Matrix')"
      ],
      "execution_count": 50,
      "outputs": [
        {
          "output_type": "stream",
          "text": [
            "Confusion matrix, without normalization\n",
            "[[3 2 1 2 0 6 4 5 7 3]\n",
            " [4 1 1 2 5 5 5 7 1 2]\n",
            " [4 3 3 2 1 6 1 4 6 3]\n",
            " [4 5 1 6 2 4 2 2 1 6]\n",
            " [5 3 3 2 5 1 4 1 6 3]\n",
            " [4 3 1 2 5 3 5 2 5 3]\n",
            " [7 2 2 5 2 3 4 2 3 3]\n",
            " [2 5 4 2 5 5 5 2 2 1]\n",
            " [3 2 3 4 5 2 4 2 2 6]\n",
            " [2 2 4 3 6 6 2 4 2 2]]\n"
          ],
          "name": "stdout"
        },
        {
          "output_type": "display_data",
          "data": {
            "image/png": "[encoded data removed]",
            "text/plain": [
              "<Figure size 432x288 with 2 Axes>"
            ]
          },
          "metadata": {
            "tags": [],
            "needs_background": "light"
          }
        }
      ]
    },
    {
      "cell_type": "code",
      "metadata": {
        "id": "Sgn0zOd_mAMr"
      },
      "source": [
        "num_of_test_samples =330\n",
        "test_set.class_indices\n",
        "batch_size=9\n",
        "from sklearn.metrics import classification_report, confusion_matrix"
      ],
      "execution_count": 58,
      "outputs": []
    },
    {
      "cell_type": "code",
      "metadata": {
        "colab": {
          "base_uri": "https://localhost:8080/"
        },
        "id": "syy88PhXkpoI",
        "outputId": "a90c58e5-cde9-4618-cee8-886269d53600"
      },
      "source": [
        "#Confution Matrix and Classification Report\n",
        "Y_pred = model.predict_generator(test_set, num_of_test_samples // batch_size+1)\n",
        "y_pred = np.argmax(Y_pred, axis=1)\n",
        "print('Confusion Matrix')\n",
        "print(confusion_matrix(test_set.classes, y_pred))\n",
        "print('Classification Report')\n",
        "target_names = ['Tomato___Bacterial_spot', 'Tomato___Early_blight', 'Tomato___Late_blight','Tomato___Leaf_Mold',\n",
        "                'Tomato___Septoria_leaf_spot','Tomato___Spider_mites Two-spotted_spider_mite','Tomato___Target_Spot',\n",
        "                'Tomato_Yellow_Leaf_Curl_Virus','Tomato_mosaic_virus','Tomato___healthy']\n",
        "print(classification_report(test_set.classes, y_pred, target_names=target_names))\n"
      ],
      "execution_count": 59,
      "outputs": [
        {
          "output_type": "stream",
          "text": [
            "/usr/local/lib/python3.7/dist-packages/tensorflow/python/keras/engine/training.py:2001: UserWarning: `Model.predict_generator` is deprecated and will be removed in a future version. Please use `Model.predict`, which supports generators.\n",
            "  warnings.warn('`Model.predict_generator` is deprecated and '\n"
          ],
          "name": "stderr"
        },
        {
          "output_type": "stream",
          "text": [
            "WARNING:tensorflow:Your input ran out of data; interrupting training. Make sure that your dataset or generator can generate at least `steps_per_epoch * epochs` batches (in this case, 37 batches). You may need to use the repeat() function when building your dataset.\n",
            "Confusion Matrix\n",
            "[[2 4 2 1 5 4 4 6 5 0]\n",
            " [4 3 1 6 2 3 2 3 1 8]\n",
            " [3 2 3 3 5 4 6 3 3 1]\n",
            " [2 2 3 4 1 3 3 2 6 7]\n",
            " [8 2 2 2 0 7 5 3 2 2]\n",
            " [8 3 1 3 5 5 1 3 2 2]\n",
            " [2 4 2 2 4 5 4 0 3 7]\n",
            " [2 3 5 5 4 3 3 5 2 1]\n",
            " [6 2 1 1 8 2 2 2 6 3]\n",
            " [1 3 3 3 2 5 6 4 5 1]]\n",
            "Classification Report\n",
            "                                               precision    recall  f1-score   support\n",
            "\n",
            "                      Tomato___Bacterial_spot       0.05      0.06      0.06        33\n",
            "                        Tomato___Early_blight       0.11      0.09      0.10        33\n",
            "                         Tomato___Late_blight       0.13      0.09      0.11        33\n",
            "                           Tomato___Leaf_Mold       0.13      0.12      0.13        33\n",
            "                  Tomato___Septoria_leaf_spot       0.00      0.00      0.00        33\n",
            "Tomato___Spider_mites Two-spotted_spider_mite       0.12      0.15      0.14        33\n",
            "                         Tomato___Target_Spot       0.11      0.12      0.12        33\n",
            "                Tomato_Yellow_Leaf_Curl_Virus       0.16      0.15      0.16        33\n",
            "                          Tomato_mosaic_virus       0.17      0.18      0.18        33\n",
            "                             Tomato___healthy       0.03      0.03      0.03        33\n",
            "\n",
            "                                     accuracy                           0.10       330\n",
            "                                    macro avg       0.10      0.10      0.10       330\n",
            "                                 weighted avg       0.10      0.10      0.10       330\n",
            "\n"
          ],
          "name": "stdout"
        }
      ]
    },
    {
      "cell_type": "code",
      "metadata": {
        "id": "Jq2fx27YnD33"
      },
      "source": [
        ""
      ],
      "execution_count": null,
      "outputs": []
    }
  ]
}